{
  "nbformat": 4,
  "nbformat_minor": 0,
  "metadata": {
    "kernelspec": {
      "display_name": "Python 3",
      "language": "python",
      "name": "python3"
    },
    "language_info": {
      "codemirror_mode": {
        "name": "ipython",
        "version": 3
      },
      "file_extension": ".py",
      "mimetype": "text/x-python",
      "name": "python",
      "nbconvert_exporter": "python",
      "pygments_lexer": "ipython3",
      "version": "3.7.3"
    },
    "colab": {
      "name": "Assignment-1.ipynb",
      "provenance": [],
      "collapsed_sections": []
    }
  },
  "cells": [
    {
      "cell_type": "markdown",
      "metadata": {
        "id": "ekC8ZmJ4CT8N"
      },
      "source": [
        "NEHAL SHARMA\n",
        "18CSE150 "
      ]
    },
    {
      "cell_type": "markdown",
      "metadata": {
        "id": "ypJuB2FNCQEj"
      },
      "source": [
        "# 1. Calculate measures of central tendency without using library functions:"
      ]
    },
    {
      "cell_type": "code",
      "metadata": {
        "id": "lpJixcIzCQEj",
        "outputId": "dc9f9482-8749-4f38-965b-5a73de4d96ba"
      },
      "source": [
        "import math\n",
        "l=list(map(int,input(\"enter data \").split()))\n",
        "\n",
        "print(\"the mean of entered data is:\")\n",
        "\n",
        "print(sum(l)/len(l))\n",
        "\n",
        "print(\"the median of entered data is:\")\n",
        "\n",
        "if len(l)%2!=0:\n",
        "    print(sorted(l)[len(l)//2])\n",
        "else:\n",
        "    print((sorted(l)[len(l)//2]+sorted(l)[len(l)//2-1])/2)\n",
        "print(\"the mode of entered data is:\")\n",
        "\n",
        "v=0\n",
        "for i in set(l):\n",
        "    if l.count(i)>v:\n",
        "        v=l.count(i)\n",
        "for i in set(l):\n",
        "    if l.count(i)==v:\n",
        "        print(i,end=\" \")\n",
        "        \n",
        "print()    \n",
        "\n",
        "variance=sum((i-sum(l)/len(l))**2 for i in l)/len(l)\n",
        "\n",
        "print(\"the variance of entered data is:\")\n",
        "print(variance)\n",
        "\n",
        "print(\"the standard deviation of entered data is:\")\n",
        "print(math.sqrt(variance))"
      ],
      "execution_count": null,
      "outputs": [
        {
          "output_type": "stream",
          "text": [
            "enter data 6 7 3 9 10 15\n",
            "the mean of entered data is:\n",
            "8.333333333333334\n",
            "the median of entered data is:\n",
            "8.0\n",
            "the mode of entered data is:\n",
            "3 6 7 9 10 15 \n",
            "the variance of entered data is:\n",
            "13.888888888888891\n",
            "the standard deviation of entered data is:\n",
            "3.72677996249965\n"
          ],
          "name": "stdout"
        }
      ]
    },
    {
      "cell_type": "markdown",
      "metadata": {
        "id": "gKuCMTjDCQEl"
      },
      "source": [
        "#  2. Calculate measures of central tendency by using library functions:"
      ]
    },
    {
      "cell_type": "code",
      "metadata": {
        "id": "M21ckF65CQEl",
        "outputId": "31d23286-29c8-45c1-9a38-f37c2433a172"
      },
      "source": [
        "import math\n",
        "import statistics\n",
        "l=list(map(int,input(\"enter data:\").split()))\n",
        "print(\"the mean of entered data is:\")\n",
        "print(statistics.mean(l))\n",
        "print(\"the median of entered data is:\")\n",
        "print(statistics.median(l))\n",
        "print(\"the mode of entered data is:\")\n",
        "if len(l)==len(set(l)):\n",
        "    print(*l)\n",
        "else:    \n",
        "    print(statistics.mode(l))\n",
        "print(\"the variance of entered data is:\")\n",
        "print(statistics.variance(l))\n",
        "print(\"the standard deviation of entered data is:\")\n",
        "print(statistics.stdev(l))\n"
      ],
      "execution_count": null,
      "outputs": [
        {
          "output_type": "stream",
          "text": [
            "enter data:6 7 3 9 10 15\n",
            "the mean of entered data is:\n",
            "8.333333333333334\n",
            "the median of entered data is:\n",
            "8.0\n",
            "the mode of entered data is:\n",
            "6 7 3 9 10 15\n",
            "the variance of entered data is:\n",
            "16.666666666666668\n",
            "the standard deviation of entered data is:\n",
            "4.08248290463863\n"
          ],
          "name": "stdout"
        }
      ]
    },
    {
      "cell_type": "code",
      "metadata": {
        "id": "e3kP33hOCQEl",
        "outputId": "ce9873fd-d558-43f0-a4f8-b24e150bb0f3"
      },
      "source": [
        "# Python3 code to demonstrate working of \n",
        "# Variance of List \n",
        "# using loop + formula \n",
        "\n",
        "# initialize list \n",
        "test_list =list(map(int,input().split()))\n",
        "\n",
        "# printing original list \n",
        "print(\"The original list is : \" + str(test_list)) \n",
        "\n",
        "# Variance of List \n",
        "# using loop + formula \n",
        "mean = sum(test_list) / len(test_list) \n",
        "res = sum((i - mean) ** 2 for i in test_list) / len(test_list) \n",
        "\n",
        "# printing result \n",
        "print(\"The variance of list is : \" + str(res)) \n"
      ],
      "execution_count": null,
      "outputs": [
        {
          "output_type": "stream",
          "text": [
            "1 2 2 3 4 5\n",
            "The original list is : [1, 2, 2, 3, 4, 5]\n",
            "The variance of list is : 1.8055555555555554\n"
          ],
          "name": "stdout"
        }
      ]
    },
    {
      "cell_type": "code",
      "metadata": {
        "id": "fB2MZMKaCQEm"
      },
      "source": [
        ""
      ],
      "execution_count": null,
      "outputs": []
    }
  ]
}