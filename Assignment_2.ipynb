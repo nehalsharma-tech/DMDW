{
  "nbformat": 4,
  "nbformat_minor": 0,
  "metadata": {
    "colab": {
      "name": "Assignment_2.ipynb",
      "provenance": [],
      "collapsed_sections": []
    },
    "kernelspec": {
      "name": "python3",
      "display_name": "Python 3"
    }
  },
  "cells": [
    {
      "cell_type": "markdown",
      "metadata": {
        "id": "MTggg1vpFr8H"
      },
      "source": [
        "NEHAL SHARMA\n",
        "18CSE150"
      ]
    },
    {
      "cell_type": "markdown",
      "metadata": {
        "id": "-soz__s0FzkX"
      },
      "source": [
        "ASSIGNMENT 2"
      ]
    },
    {
      "cell_type": "code",
      "metadata": {
        "id": "u9VB62FaFcI7"
      },
      "source": [
        "import numpy as np\n",
        "from matplotlib import pyplot as plt"
      ],
      "execution_count": 1,
      "outputs": []
    },
    {
      "cell_type": "code",
      "metadata": {
        "id": "5Z3EGYv0GAPH"
      },
      "source": [
        "x= np.arange(1,10)"
      ],
      "execution_count": 2,
      "outputs": []
    },
    {
      "cell_type": "code",
      "metadata": {
        "colab": {
          "base_uri": "https://localhost:8080/"
        },
        "id": "b27f0_vSGEqB",
        "outputId": "450a28a9-241e-410a-8115-f7407b2540e9"
      },
      "source": [
        "y=2*x\n",
        "y"
      ],
      "execution_count": 3,
      "outputs": [
        {
          "output_type": "execute_result",
          "data": {
            "text/plain": [
              "array([ 2,  4,  6,  8, 10, 12, 14, 16, 18])"
            ]
          },
          "metadata": {
            "tags": []
          },
          "execution_count": 3
        }
      ]
    },
    {
      "cell_type": "code",
      "metadata": {
        "colab": {
          "base_uri": "https://localhost:8080/",
          "height": 265
        },
        "id": "cOgPY1asGHAV",
        "outputId": "2fa523e5-db28-4319-a498-f93f8df8194e"
      },
      "source": [
        "\n",
        "plt.plot(x,y)\n",
        "plt.show()"
      ],
      "execution_count": 4,
      "outputs": [
        {
          "output_type": "display_data",
          "data": {
            "image/png": "[encoded data removed]",
            "text/plain": [
              "<Figure size 432x288 with 1 Axes>"
            ]
          },
          "metadata": {
            "tags": [],
            "needs_background": "light"
          }
        }
      ]
    },
    {
      "cell_type": "code",
      "metadata": {
        "id": "WvdyZX2gGJe7"
      },
      "source": [
        ""
      ],
      "execution_count": null,
      "outputs": []
    }
  ]
}